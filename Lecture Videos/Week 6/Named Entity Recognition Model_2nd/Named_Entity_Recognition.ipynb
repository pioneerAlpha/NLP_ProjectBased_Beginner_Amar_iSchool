{
  "nbformat": 4,
  "nbformat_minor": 0,
  "metadata": {
    "colab": {
      "provenance": []
    },
    "kernelspec": {
      "name": "python3",
      "display_name": "Python 3"
    },
    "language_info": {
      "name": "python"
    }
  },
  "cells": [
    {
      "cell_type": "markdown",
      "source": [
        "Loading the Data"
      ],
      "metadata": {
        "id": "N31WvTF-B71F"
      }
    },
    {
      "cell_type": "code",
      "execution_count": 1,
      "metadata": {
        "id": "8NBP4FlEac3O",
        "colab": {
          "base_uri": "https://localhost:8080/",
          "height": 206
        },
        "outputId": "3589561b-996c-4520-a194-e1507c1777fd"
      },
      "outputs": [
        {
          "output_type": "execute_result",
          "data": {
            "text/plain": [
              "    Sentence #           Word  POS Tag\n",
              "0  Sentence: 1      Thousands  NNS   O\n",
              "1          NaN             of   IN   O\n",
              "2          NaN  demonstrators  NNS   O\n",
              "3          NaN           have  VBP   O\n",
              "4          NaN        marched  VBN   O"
            ],
            "text/html": [
              "\n",
              "  <div id=\"df-a6331875-2dbd-4fa2-b2ce-48906a365588\">\n",
              "    <div class=\"colab-df-container\">\n",
              "      <div>\n",
              "<style scoped>\n",
              "    .dataframe tbody tr th:only-of-type {\n",
              "        vertical-align: middle;\n",
              "    }\n",
              "\n",
              "    .dataframe tbody tr th {\n",
              "        vertical-align: top;\n",
              "    }\n",
              "\n",
              "    .dataframe thead th {\n",
              "        text-align: right;\n",
              "    }\n",
              "</style>\n",
              "<table border=\"1\" class=\"dataframe\">\n",
              "  <thead>\n",
              "    <tr style=\"text-align: right;\">\n",
              "      <th></th>\n",
              "      <th>Sentence #</th>\n",
              "      <th>Word</th>\n",
              "      <th>POS</th>\n",
              "      <th>Tag</th>\n",
              "    </tr>\n",
              "  </thead>\n",
              "  <tbody>\n",
              "    <tr>\n",
              "      <th>0</th>\n",
              "      <td>Sentence: 1</td>\n",
              "      <td>Thousands</td>\n",
              "      <td>NNS</td>\n",
              "      <td>O</td>\n",
              "    </tr>\n",
              "    <tr>\n",
              "      <th>1</th>\n",
              "      <td>NaN</td>\n",
              "      <td>of</td>\n",
              "      <td>IN</td>\n",
              "      <td>O</td>\n",
              "    </tr>\n",
              "    <tr>\n",
              "      <th>2</th>\n",
              "      <td>NaN</td>\n",
              "      <td>demonstrators</td>\n",
              "      <td>NNS</td>\n",
              "      <td>O</td>\n",
              "    </tr>\n",
              "    <tr>\n",
              "      <th>3</th>\n",
              "      <td>NaN</td>\n",
              "      <td>have</td>\n",
              "      <td>VBP</td>\n",
              "      <td>O</td>\n",
              "    </tr>\n",
              "    <tr>\n",
              "      <th>4</th>\n",
              "      <td>NaN</td>\n",
              "      <td>marched</td>\n",
              "      <td>VBN</td>\n",
              "      <td>O</td>\n",
              "    </tr>\n",
              "  </tbody>\n",
              "</table>\n",
              "</div>\n",
              "      <button class=\"colab-df-convert\" onclick=\"convertToInteractive('df-a6331875-2dbd-4fa2-b2ce-48906a365588')\"\n",
              "              title=\"Convert this dataframe to an interactive table.\"\n",
              "              style=\"display:none;\">\n",
              "        \n",
              "  <svg xmlns=\"http://www.w3.org/2000/svg\" height=\"24px\"viewBox=\"0 0 24 24\"\n",
              "       width=\"24px\">\n",
              "    <path d=\"M0 0h24v24H0V0z\" fill=\"none\"/>\n",
              "    <path d=\"M18.56 5.44l.94 2.06.94-2.06 2.06-.94-2.06-.94-.94-2.06-.94 2.06-2.06.94zm-11 1L8.5 8.5l.94-2.06 2.06-.94-2.06-.94L8.5 2.5l-.94 2.06-2.06.94zm10 10l.94 2.06.94-2.06 2.06-.94-2.06-.94-.94-2.06-.94 2.06-2.06.94z\"/><path d=\"M17.41 7.96l-1.37-1.37c-.4-.4-.92-.59-1.43-.59-.52 0-1.04.2-1.43.59L10.3 9.45l-7.72 7.72c-.78.78-.78 2.05 0 2.83L4 21.41c.39.39.9.59 1.41.59.51 0 1.02-.2 1.41-.59l7.78-7.78 2.81-2.81c.8-.78.8-2.07 0-2.86zM5.41 20L4 18.59l7.72-7.72 1.47 1.35L5.41 20z\"/>\n",
              "  </svg>\n",
              "      </button>\n",
              "      \n",
              "  <style>\n",
              "    .colab-df-container {\n",
              "      display:flex;\n",
              "      flex-wrap:wrap;\n",
              "      gap: 12px;\n",
              "    }\n",
              "\n",
              "    .colab-df-convert {\n",
              "      background-color: #E8F0FE;\n",
              "      border: none;\n",
              "      border-radius: 50%;\n",
              "      cursor: pointer;\n",
              "      display: none;\n",
              "      fill: #1967D2;\n",
              "      height: 32px;\n",
              "      padding: 0 0 0 0;\n",
              "      width: 32px;\n",
              "    }\n",
              "\n",
              "    .colab-df-convert:hover {\n",
              "      background-color: #E2EBFA;\n",
              "      box-shadow: 0px 1px 2px rgba(60, 64, 67, 0.3), 0px 1px 3px 1px rgba(60, 64, 67, 0.15);\n",
              "      fill: #174EA6;\n",
              "    }\n",
              "\n",
              "    [theme=dark] .colab-df-convert {\n",
              "      background-color: #3B4455;\n",
              "      fill: #D2E3FC;\n",
              "    }\n",
              "\n",
              "    [theme=dark] .colab-df-convert:hover {\n",
              "      background-color: #434B5C;\n",
              "      box-shadow: 0px 1px 3px 1px rgba(0, 0, 0, 0.15);\n",
              "      filter: drop-shadow(0px 1px 2px rgba(0, 0, 0, 0.3));\n",
              "      fill: #FFFFFF;\n",
              "    }\n",
              "  </style>\n",
              "\n",
              "      <script>\n",
              "        const buttonEl =\n",
              "          document.querySelector('#df-a6331875-2dbd-4fa2-b2ce-48906a365588 button.colab-df-convert');\n",
              "        buttonEl.style.display =\n",
              "          google.colab.kernel.accessAllowed ? 'block' : 'none';\n",
              "\n",
              "        async function convertToInteractive(key) {\n",
              "          const element = document.querySelector('#df-a6331875-2dbd-4fa2-b2ce-48906a365588');\n",
              "          const dataTable =\n",
              "            await google.colab.kernel.invokeFunction('convertToInteractive',\n",
              "                                                     [key], {});\n",
              "          if (!dataTable) return;\n",
              "\n",
              "          const docLinkHtml = 'Like what you see? Visit the ' +\n",
              "            '<a target=\"_blank\" href=https://colab.research.google.com/notebooks/data_table.ipynb>data table notebook</a>'\n",
              "            + ' to learn more about interactive tables.';\n",
              "          element.innerHTML = '';\n",
              "          dataTable['output_type'] = 'display_data';\n",
              "          await google.colab.output.renderOutput(dataTable, element);\n",
              "          const docLink = document.createElement('div');\n",
              "          docLink.innerHTML = docLinkHtml;\n",
              "          element.appendChild(docLink);\n",
              "        }\n",
              "      </script>\n",
              "    </div>\n",
              "  </div>\n",
              "  "
            ]
          },
          "metadata": {},
          "execution_count": 1
        }
      ],
      "source": [
        "import pandas as pd\n",
        "data = pd.read_csv('ner_dataset.csv', encoding= 'unicode_escape')\n",
        "data.head()"
      ]
    },
    {
      "cell_type": "code",
      "source": [
        "data.shape"
      ],
      "metadata": {
        "colab": {
          "base_uri": "https://localhost:8080/"
        },
        "id": "3dp-FPRc7j3f",
        "outputId": "75252721-abb1-43af-e682-27fbb37e40d3"
      },
      "execution_count": 18,
      "outputs": [
        {
          "output_type": "execute_result",
          "data": {
            "text/plain": [
              "(1048575, 6)"
            ]
          },
          "metadata": {},
          "execution_count": 18
        }
      ]
    },
    {
      "cell_type": "markdown",
      "source": [
        "Data Preparation for Neural Networks"
      ],
      "metadata": {
        "id": "7095mwPVCAYZ"
      }
    },
    {
      "cell_type": "code",
      "source": [
        "from itertools import chain\n",
        "def get_dict_map(data, token_or_tag):\n",
        "    tok2idx = {}\n",
        "    idx2tok = {}\n",
        "    \n",
        "    if token_or_tag == 'token':\n",
        "        vocab = list(set(data['Word'].to_list()))\n",
        "    else:\n",
        "        vocab = list(set(data['Tag'].to_list()))\n",
        "    \n",
        "    idx2tok = {idx:tok for  idx, tok in enumerate(vocab)}\n",
        "    tok2idx = {tok:idx for  idx, tok in enumerate(vocab)}\n",
        "    return tok2idx, idx2tok\n",
        "token2idx, idx2token = get_dict_map(data, 'token')\n",
        "tag2idx, idx2tag = get_dict_map(data, 'tag')"
      ],
      "metadata": {
        "id": "sTTnEBkHawJD"
      },
      "execution_count": 2,
      "outputs": []
    },
    {
      "cell_type": "code",
      "source": [
        "print(data['Word'][:5])"
      ],
      "metadata": {
        "colab": {
          "base_uri": "https://localhost:8080/"
        },
        "id": "viTb0vB-8k20",
        "outputId": "bfe63629-5e2c-4eb0-b5c2-a7aacd6aa8ef"
      },
      "execution_count": 20,
      "outputs": [
        {
          "output_type": "stream",
          "name": "stdout",
          "text": [
            "0        Thousands\n",
            "1               of\n",
            "2    demonstrators\n",
            "3             have\n",
            "4          marched\n",
            "Name: Word, dtype: object\n"
          ]
        }
      ]
    },
    {
      "cell_type": "code",
      "source": [
        "print(data['Tag'][:5])"
      ],
      "metadata": {
        "colab": {
          "base_uri": "https://localhost:8080/"
        },
        "id": "8sHOmE2m8ubO",
        "outputId": "a44f8fa7-32e3-470f-f84c-058a8a0d3d13"
      },
      "execution_count": 21,
      "outputs": [
        {
          "output_type": "stream",
          "name": "stdout",
          "text": [
            "0    O\n",
            "1    O\n",
            "2    O\n",
            "3    O\n",
            "4    O\n",
            "Name: Tag, dtype: object\n"
          ]
        }
      ]
    },
    {
      "cell_type": "markdown",
      "source": [
        "Now I will transform the columns in the data to extract the sequential data for our neural network"
      ],
      "metadata": {
        "id": "l1Ht8URwCFdW"
      }
    },
    {
      "cell_type": "code",
      "source": [
        "data['Word_idx'] = data['Word'].map(token2idx)\n",
        "data['Tag_idx'] = data['Tag'].map(tag2idx)\n",
        "data_fillna = data.fillna(method='ffill', axis=0)\n",
        "# Groupby and collect columns\n",
        "data_group = data_fillna.groupby(\n",
        "['Sentence #'],as_index=False\n",
        ")['Word', 'POS', 'Tag', 'Word_idx', 'Tag_idx'].agg(lambda x: list(x))"
      ],
      "metadata": {
        "id": "2mx3CvJiawsk",
        "colab": {
          "base_uri": "https://localhost:8080/"
        },
        "outputId": "d0c7faf5-6ff6-4b2b-f738-7a32c758d7e6"
      },
      "execution_count": 3,
      "outputs": [
        {
          "output_type": "stream",
          "name": "stderr",
          "text": [
            "/usr/local/lib/python3.7/dist-packages/ipykernel_launcher.py:7: FutureWarning: Indexing with multiple keys (implicitly converted to a tuple of keys) will be deprecated, use a list instead.\n",
            "  import sys\n"
          ]
        }
      ]
    },
    {
      "cell_type": "code",
      "source": [
        "print(data['Word_idx'][:5])"
      ],
      "metadata": {
        "colab": {
          "base_uri": "https://localhost:8080/"
        },
        "id": "JNrDmUdu88TU",
        "outputId": "cba183a9-18b4-4882-c678-b7f38bb74098"
      },
      "execution_count": 22,
      "outputs": [
        {
          "output_type": "stream",
          "name": "stdout",
          "text": [
            "0    31859\n",
            "1    21653\n",
            "2     7592\n",
            "3     6433\n",
            "4    29446\n",
            "Name: Word_idx, dtype: int64\n"
          ]
        }
      ]
    },
    {
      "cell_type": "code",
      "source": [
        "print(data['Tag_idx'][:5])"
      ],
      "metadata": {
        "colab": {
          "base_uri": "https://localhost:8080/"
        },
        "id": "o4yl_7zD8_Gy",
        "outputId": "44203cb9-b30a-4c64-e594-62ea55179b8a"
      },
      "execution_count": 23,
      "outputs": [
        {
          "output_type": "stream",
          "name": "stdout",
          "text": [
            "0    2\n",
            "1    2\n",
            "2    2\n",
            "3    2\n",
            "4    2\n",
            "Name: Tag_idx, dtype: int64\n"
          ]
        }
      ]
    },
    {
      "cell_type": "code",
      "source": [
        "print(data_group)"
      ],
      "metadata": {
        "colab": {
          "base_uri": "https://localhost:8080/"
        },
        "id": "MJoLJfm99Lqw",
        "outputId": "e77daf40-15f9-436d-a895-a955f52dd3c6"
      },
      "execution_count": 24,
      "outputs": [
        {
          "output_type": "stream",
          "name": "stdout",
          "text": [
            "            Sentence #                                               Word  \\\n",
            "0          Sentence: 1  [Thousands, of, demonstrators, have, marched, ...   \n",
            "1         Sentence: 10  [Iranian, officials, say, they, expect, to, ge...   \n",
            "2        Sentence: 100  [Helicopter, gunships, Saturday, pounded, mili...   \n",
            "3       Sentence: 1000  [They, left, after, a, tense, hour-long, stand...   \n",
            "4      Sentence: 10000  [U.N., relief, coordinator, Jan, Egeland, said...   \n",
            "...                ...                                                ...   \n",
            "47954   Sentence: 9995  [Opposition, leader, Mir, Hossein, Mousavi, ha...   \n",
            "47955   Sentence: 9996  [On, Thursday, ,, Iranian, state, media, publi...   \n",
            "47956   Sentence: 9997  [Following, Iran, 's, disputed, June, 12, elec...   \n",
            "47957   Sentence: 9998  [Since, then, ,, authorities, have, held, publ...   \n",
            "47958   Sentence: 9999  [The, United, Nations, is, praising, the, use,...   \n",
            "\n",
            "                                                     POS  \\\n",
            "0      [NNS, IN, NNS, VBP, VBN, IN, NNP, TO, VB, DT, ...   \n",
            "1      [JJ, NNS, VBP, PRP, VBP, TO, VB, NN, TO, JJ, J...   \n",
            "2      [NN, NNS, NNP, VBD, JJ, NNS, IN, DT, NNP, JJ, ...   \n",
            "3         [PRP, VBD, IN, DT, NN, JJ, NN, IN, NN, NNS, .]   \n",
            "4      [NNP, NN, NN, NNP, NNP, VBD, NNP, ,, NNP, ,, J...   \n",
            "...                                                  ...   \n",
            "47954  [NNP, NN, NNP, NNP, NNP, VBZ, VBN, PRP, VBZ, T...   \n",
            "47955  [IN, NNP, ,, JJ, NN, NNS, VBN, DT, NN, IN, DT,...   \n",
            "47956  [VBG, NNP, POS, JJ, NNP, CD, NNS, ,, NNS, NNS,...   \n",
            "47957  [IN, RB, ,, NNS, VBP, VBN, JJ, NNS, IN, DT, VB...   \n",
            "47958  [DT, NNP, NNP, VBZ, VBG, DT, NN, IN, JJ, NNS, ...   \n",
            "\n",
            "                                                     Tag  \\\n",
            "0      [O, O, O, O, O, O, B-geo, O, O, O, O, O, B-geo...   \n",
            "1      [B-gpe, O, O, O, O, O, O, O, O, O, O, O, O, O,...   \n",
            "2      [O, O, B-tim, O, O, O, O, O, B-geo, O, O, O, O...   \n",
            "3                      [O, O, O, O, O, O, O, O, O, O, O]   \n",
            "4      [B-geo, O, O, B-per, I-per, O, B-tim, O, B-geo...   \n",
            "...                                                  ...   \n",
            "47954  [O, O, O, B-per, I-per, O, O, O, O, O, O, O, O...   \n",
            "47955  [O, B-tim, O, B-gpe, O, O, O, O, O, O, O, O, B...   \n",
            "47956  [O, B-geo, O, O, B-tim, I-tim, O, O, O, O, O, ...   \n",
            "47957  [O, O, O, O, O, O, O, O, O, O, O, O, O, O, O, ...   \n",
            "47958  [O, B-org, I-org, O, O, O, O, O, O, O, O, O, O...   \n",
            "\n",
            "                                                Word_idx  \\\n",
            "0      [31859, 21653, 7592, 6433, 29446, 18238, 18829...   \n",
            "1      [8200, 14393, 5616, 730, 27640, 14736, 29900, ...   \n",
            "2      [7804, 22042, 20250, 25362, 17246, 33692, 2188...   \n",
            "3      [2213, 17811, 12316, 15115, 13937, 7278, 20516...   \n",
            "4      [3469, 957, 28259, 25906, 20577, 888, 17656, 3...   \n",
            "...                                                  ...   \n",
            "47954  [26518, 25172, 9868, 28079, 11262, 34185, 888,...   \n",
            "47955  [32079, 31566, 34983, 8200, 20536, 18772, 2204...   \n",
            "47956  [29560, 7294, 27124, 15685, 15742, 20819, 587,...   \n",
            "47957  [33442, 17649, 34983, 17069, 6433, 16961, 1291...   \n",
            "47958  [10854, 21613, 23934, 17353, 26017, 1035, 3050...   \n",
            "\n",
            "                                                 Tag_idx  \n",
            "0      [2, 2, 2, 2, 2, 2, 9, 2, 2, 2, 2, 2, 9, 2, 2, ...  \n",
            "1      [12, 2, 2, 2, 2, 2, 2, 2, 2, 2, 2, 2, 2, 2, 2,...  \n",
            "2      [2, 2, 7, 2, 2, 2, 2, 2, 9, 2, 2, 2, 2, 2, 15,...  \n",
            "3                      [2, 2, 2, 2, 2, 2, 2, 2, 2, 2, 2]  \n",
            "4      [9, 2, 2, 6, 10, 2, 7, 2, 9, 2, 12, 2, 12, 2, ...  \n",
            "...                                                  ...  \n",
            "47954  [2, 2, 2, 6, 10, 2, 2, 2, 2, 2, 2, 2, 2, 2, 2,...  \n",
            "47955  [2, 7, 2, 12, 2, 2, 2, 2, 2, 2, 2, 2, 15, 4, 2...  \n",
            "47956  [2, 9, 2, 2, 7, 1, 2, 2, 2, 2, 2, 2, 2, 2, 2, ...  \n",
            "47957  [2, 2, 2, 2, 2, 2, 2, 2, 2, 2, 2, 2, 2, 2, 2, ...  \n",
            "47958  [2, 15, 4, 2, 2, 2, 2, 2, 2, 2, 2, 2, 2, 2, 2,...  \n",
            "\n",
            "[47959 rows x 6 columns]\n"
          ]
        }
      ]
    },
    {
      "cell_type": "markdown",
      "source": [
        "Now I will split the data into training and test sets. I will create a function for splitting the data because the LSTM layers accept sequences of the same length only. So every sentence that appears as integer in the data must be padded with the same length:"
      ],
      "metadata": {
        "id": "02UDcTFuCJz7"
      }
    },
    {
      "cell_type": "code",
      "source": [
        "from sklearn.model_selection import train_test_split\n",
        "from keras_preprocessing.sequence import pad_sequences\n",
        "from keras.utils import to_categorical\n",
        "\n",
        "def get_pad_train_test_val(data_group, data):\n",
        "\n",
        "    #get max token and tag length\n",
        "    n_token = len(list(set(data['Word'].to_list())))\n",
        "    n_tag = len(list(set(data['Tag'].to_list())))\n",
        "\n",
        "    #Pad tokens (X var)    \n",
        "    tokens = data_group['Word_idx'].tolist()\n",
        "    maxlen = max([len(s) for s in tokens])\n",
        "    pad_tokens = pad_sequences(tokens, maxlen=maxlen, dtype='int32', padding='post', value= n_token - 1)\n",
        "\n",
        "    #Pad Tags (y var) and convert it into one hot encoding\n",
        "    tags = data_group['Tag_idx'].tolist()\n",
        "    pad_tags = pad_sequences(tags, maxlen=maxlen, dtype='int32', padding='post', value= tag2idx[\"O\"])\n",
        "    n_tags = len(tag2idx)\n",
        "    pad_tags = [to_categorical(i, num_classes=n_tags) for i in pad_tags]\n",
        "    \n",
        "    #Split train, test and validation set\n",
        "    tokens_, test_tokens, tags_, test_tags = train_test_split(pad_tokens, pad_tags, test_size=0.1, train_size=0.9, random_state=2020)\n",
        "    train_tokens, val_tokens, train_tags, val_tags = train_test_split(tokens_,tags_,test_size = 0.25,train_size =0.75, random_state=2020)\n",
        "\n",
        "    print(\n",
        "        'train_tokens length:', len(train_tokens),\n",
        "        '\\ntrain_tokens length:', len(train_tokens),\n",
        "        '\\ntest_tokens length:', len(test_tokens),\n",
        "        '\\ntest_tags:', len(test_tags),\n",
        "        '\\nval_tokens:', len(val_tokens),\n",
        "        '\\nval_tags:', len(val_tags),\n",
        "    )\n",
        "    \n",
        "    return train_tokens, val_tokens, test_tokens, train_tags, val_tags, test_tags\n",
        "\n",
        "train_tokens, val_tokens, test_tokens, train_tags, val_tags, test_tags = get_pad_train_test_val(data_group, data)"
      ],
      "metadata": {
        "id": "fQ2qaqapa4T8",
        "colab": {
          "base_uri": "https://localhost:8080/"
        },
        "outputId": "1489f99f-a5e8-4955-f924-30b7d224b2de"
      },
      "execution_count": 4,
      "outputs": [
        {
          "output_type": "stream",
          "name": "stdout",
          "text": [
            "train_tokens length: 32372 \n",
            "train_tokens length: 32372 \n",
            "test_tokens length: 4796 \n",
            "test_tags: 4796 \n",
            "val_tokens: 10791 \n",
            "val_tags: 10791\n"
          ]
        }
      ]
    },
    {
      "cell_type": "markdown",
      "source": [
        "#Training Neural Network for Named Entity Recognition (NER)"
      ],
      "metadata": {
        "id": "NT8eB6--COxt"
      }
    },
    {
      "cell_type": "markdown",
      "source": [
        "Now, I will proceed with training the neural network architecture of our model. So let’s start with importing all the packages we need for training our neural network:"
      ],
      "metadata": {
        "id": "Z7CYfMX7COHj"
      }
    },
    {
      "cell_type": "code",
      "source": [
        "import numpy as np\n",
        "import tensorflow\n",
        "from tensorflow.keras import Sequential, Model, Input\n",
        "from tensorflow.keras.layers import LSTM, Embedding, Dense, TimeDistributed, Dropout, Bidirectional\n",
        "from tensorflow.keras.utils import plot_model\n",
        "from numpy.random import seed\n",
        "seed(1)\n",
        "tensorflow.random.set_seed(2)"
      ],
      "metadata": {
        "id": "dXMQb70wa7PR"
      },
      "execution_count": 5,
      "outputs": []
    },
    {
      "cell_type": "markdown",
      "source": [
        "The layer below will take the dimensions from the LSTM layer and will give the maximum length and maximum tags as an output:"
      ],
      "metadata": {
        "id": "vIurt6UaCTAz"
      }
    },
    {
      "cell_type": "code",
      "source": [
        "input_dim = len(list(set(data['Word'].to_list())))+1\n",
        "output_dim = 64\n",
        "input_length = max([len(s) for s in data_group['Word_idx'].tolist()])\n",
        "n_tags = len(tag2idx)"
      ],
      "metadata": {
        "id": "m58DfpXxa97Q"
      },
      "execution_count": 6,
      "outputs": []
    },
    {
      "cell_type": "markdown",
      "source": [
        "Now I will create a helper function which will help us in giving the summary of every layer of the neural network model for Named Entity Recognition (NER):"
      ],
      "metadata": {
        "id": "B9EGCbtPCWNW"
      }
    },
    {
      "cell_type": "code",
      "source": [
        "def get_bilstm_lstm_model():\n",
        "    model = Sequential()\n",
        "\n",
        "    # Add Embedding layer\n",
        "    model.add(Embedding(input_dim=input_dim, output_dim=output_dim, input_length=input_length))\n",
        "\n",
        "    # Add bidirectional LSTM\n",
        "    model.add(Bidirectional(LSTM(units=output_dim, return_sequences=True, dropout=0.2, recurrent_dropout=0.2), merge_mode = 'concat'))\n",
        "\n",
        "    # Add LSTM\n",
        "    model.add(LSTM(units=output_dim, return_sequences=True, dropout=0.5, recurrent_dropout=0.5))\n",
        "\n",
        "    # Add timeDistributed Layer\n",
        "    model.add(TimeDistributed(Dense(n_tags, activation=\"relu\")))\n",
        "\n",
        "    #Optimiser \n",
        "    # adam = k.optimizers.Adam(lr=0.0005, beta_1=0.9, beta_2=0.999)\n",
        "\n",
        "    # Compile model\n",
        "    model.compile(loss='categorical_crossentropy', optimizer='adam', metrics=['accuracy'])\n",
        "    model.summary()\n",
        "    \n",
        "    return model"
      ],
      "metadata": {
        "id": "ou2HO3QN6W0j"
      },
      "execution_count": 7,
      "outputs": []
    },
    {
      "cell_type": "markdown",
      "source": [
        "Now I will create a helper function to train the Named Entity Recognition model:"
      ],
      "metadata": {
        "id": "jBFT7_87CaQ9"
      }
    },
    {
      "cell_type": "code",
      "source": [
        "def train_model(X, y, model):\n",
        "    loss = list()\n",
        "    for i in range(25):\n",
        "        # fit model for one epoch on this sequence\n",
        "        hist = model.fit(X, y, batch_size=1000, verbose=1, epochs=1, validation_split=0.2)\n",
        "        loss.append(hist.history['loss'][0])\n",
        "    return loss"
      ],
      "metadata": {
        "id": "v4metTyc6bHB"
      },
      "execution_count": 8,
      "outputs": []
    },
    {
      "cell_type": "markdown",
      "source": [
        "Driver code:"
      ],
      "metadata": {
        "id": "h8w1oc2SCnHs"
      }
    },
    {
      "cell_type": "code",
      "source": [
        "results = pd.DataFrame()\n",
        "model_bilstm_lstm = get_bilstm_lstm_model()\n",
        "plot_model(model_bilstm_lstm)\n",
        "results['with_add_lstm'] = train_model(train_tokens, np.array(train_tags), model_bilstm_lstm)"
      ],
      "metadata": {
        "colab": {
          "base_uri": "https://localhost:8080/"
        },
        "id": "vIlNSHUw6bx6",
        "outputId": "0200c811-3b31-4b7d-fddd-2d0b1a64747b"
      },
      "execution_count": 9,
      "outputs": [
        {
          "output_type": "stream",
          "name": "stdout",
          "text": [
            "Model: \"sequential\"\n",
            "_________________________________________________________________\n",
            " Layer (type)                Output Shape              Param #   \n",
            "=================================================================\n",
            " embedding (Embedding)       (None, 104, 64)           2251456   \n",
            "                                                                 \n",
            " bidirectional (Bidirectiona  (None, 104, 128)         66048     \n",
            " l)                                                              \n",
            "                                                                 \n",
            " lstm_1 (LSTM)               (None, 104, 64)           49408     \n",
            "                                                                 \n",
            " time_distributed (TimeDistr  (None, 104, 17)          1105      \n",
            " ibuted)                                                         \n",
            "                                                                 \n",
            "=================================================================\n",
            "Total params: 2,368,017\n",
            "Trainable params: 2,368,017\n",
            "Non-trainable params: 0\n",
            "_________________________________________________________________\n",
            "26/26 [==============================] - 162s 6s/step - loss: 1.4663 - accuracy: 0.8975 - val_loss: 0.3682 - val_accuracy: 0.9681\n",
            "26/26 [==============================] - 150s 6s/step - loss: 0.3584 - accuracy: 0.9677 - val_loss: 0.3155 - val_accuracy: 0.9681\n",
            "26/26 [==============================] - 154s 6s/step - loss: 0.2741 - accuracy: 0.9677 - val_loss: 0.2279 - val_accuracy: 0.9681\n",
            "26/26 [==============================] - 153s 6s/step - loss: 0.2264 - accuracy: 0.9677 - val_loss: 0.2054 - val_accuracy: 0.9681\n",
            "26/26 [==============================] - 154s 6s/step - loss: 0.2041 - accuracy: 0.9677 - val_loss: 0.1798 - val_accuracy: 0.9681\n",
            "26/26 [==============================] - 152s 6s/step - loss: 0.1937 - accuracy: 0.9677 - val_loss: 0.1738 - val_accuracy: 0.9681\n",
            "26/26 [==============================] - 156s 6s/step - loss: 0.1778 - accuracy: 0.9677 - val_loss: 0.1578 - val_accuracy: 0.9681\n",
            "26/26 [==============================] - 154s 6s/step - loss: 0.1666 - accuracy: 0.9677 - val_loss: 0.1565 - val_accuracy: 0.9681\n",
            "26/26 [==============================] - 154s 6s/step - loss: 0.1589 - accuracy: 0.9677 - val_loss: 0.1470 - val_accuracy: 0.9681\n",
            "26/26 [==============================] - 154s 6s/step - loss: 0.1528 - accuracy: 0.9677 - val_loss: 0.1538 - val_accuracy: 0.9681\n",
            "26/26 [==============================] - 153s 6s/step - loss: 0.1485 - accuracy: 0.9677 - val_loss: 0.1451 - val_accuracy: 0.9681\n",
            "26/26 [==============================] - 153s 6s/step - loss: 0.1444 - accuracy: 0.9677 - val_loss: 0.1444 - val_accuracy: 0.9681\n",
            "26/26 [==============================] - 153s 6s/step - loss: 0.1361 - accuracy: 0.9677 - val_loss: 0.1363 - val_accuracy: 0.9681\n",
            "26/26 [==============================] - 153s 6s/step - loss: 0.1412 - accuracy: 0.9677 - val_loss: 0.1365 - val_accuracy: 0.9681\n",
            "26/26 [==============================] - 153s 6s/step - loss: 0.1551 - accuracy: 0.9678 - val_loss: 0.1416 - val_accuracy: 0.9681\n",
            "26/26 [==============================] - 153s 6s/step - loss: 0.1339 - accuracy: 0.9678 - val_loss: 0.1345 - val_accuracy: 0.9681\n",
            "26/26 [==============================] - 154s 6s/step - loss: 0.1276 - accuracy: 0.9678 - val_loss: 0.1339 - val_accuracy: 0.9681\n",
            "26/26 [==============================] - 154s 6s/step - loss: 0.1228 - accuracy: 0.9678 - val_loss: 0.1329 - val_accuracy: 0.9681\n",
            "26/26 [==============================] - 154s 6s/step - loss: 0.1207 - accuracy: 0.9678 - val_loss: 0.1309 - val_accuracy: 0.9681\n",
            "26/26 [==============================] - 152s 6s/step - loss: 0.1183 - accuracy: 0.9678 - val_loss: 0.1282 - val_accuracy: 0.9681\n",
            "26/26 [==============================] - 153s 6s/step - loss: 0.1160 - accuracy: 0.9679 - val_loss: 0.1284 - val_accuracy: 0.9682\n",
            "26/26 [==============================] - 154s 6s/step - loss: 0.1136 - accuracy: 0.9679 - val_loss: 0.1259 - val_accuracy: 0.9682\n",
            "26/26 [==============================] - 153s 6s/step - loss: 0.1119 - accuracy: 0.9679 - val_loss: 0.1262 - val_accuracy: 0.9682\n",
            "26/26 [==============================] - 152s 6s/step - loss: 0.1103 - accuracy: 0.9680 - val_loss: 0.1266 - val_accuracy: 0.9682\n",
            "26/26 [==============================] - 153s 6s/step - loss: 0.1087 - accuracy: 0.9681 - val_loss: 0.1255 - val_accuracy: 0.9683\n"
          ]
        }
      ]
    }
  ]
}
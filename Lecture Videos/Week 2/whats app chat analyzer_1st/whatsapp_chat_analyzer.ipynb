{
 "cells": [
  {
   "cell_type": "code",
   "execution_count": 1,
   "metadata": {},
   "outputs": [],
   "source": [
    "import re\n",
    "import pandas as pd"
   ]
  },
  {
   "cell_type": "code",
   "execution_count": 2,
   "metadata": {},
   "outputs": [],
   "source": [
    "f = open('./WhatsApp Chat with Codingal Teacher_Batch-49.txt', 'r', encoding='utf-8')"
   ]
  },
  {
   "cell_type": "code",
   "execution_count": 3,
   "metadata": {},
   "outputs": [],
   "source": [
    "data = f.read()"
   ]
  },
  {
   "cell_type": "code",
   "execution_count": 4,
   "metadata": {},
   "outputs": [
    {
     "name": "stdout",
     "output_type": "stream",
     "text": [
      "29/07/2022, 2:21 pm - Messages and calls are end-to-end encrypted. No one outside of this chat, not even WhatsApp, can read or listen to them. Tap to learn more.\n",
      "29/07/2022, 12:36 pm - +91 86378 45121 created group \"Codingal Teacher|Btch-49\"\n",
      "29/07/2022, 2:21 pm - You joined using this group's invite link\n",
      "29/07/2022, 2:30 pm - +91 90419 96993 joined using this group's invite link\n",
      "29/07/2022, 2:40 pm - +880 1534-357696 joined using this group's invite link\n",
      "29/07/2022, 2:40 pm - +880 1911-135430 joined using this group's invite link\n",
      "29/07/2022, 2:41 pm - +880 1934-050250 joined using this group's invite link\n",
      "29/07/2022, 2:53 pm - +880 1885-483726 joined using this group's invite link\n",
      "29/07/2022, 2:58 pm - +92 333 8693215 joined using this group's invite link\n",
      "29/07/2022, 2:59 pm - +91 70064 82743 joined using this group's invite link\n",
      "29/07/2022, 3:00 pm - +92 303 8016653 joined using this group's invite link\n",
      "29/07/2022, 3:02 pm - +92 312 7396969 joined using this group's invite link\n",
      "29/07/2022, 3:25 pm - +91 81226 87839 joined using this group's invite link\n",
      "29/07/2022, 5:08 pm - +880 1750-591009 joined using this group's invite link\n",
      "29/07/2022, 6:17 pm - +880 1969-698178 joined using this group's invite link\n",
      "29/07/2022, 6:58 pm - +880 1731-256258 joined using this group's invite link\n",
      "29/07/2022, 7:31 pm - +91 75419 66165 joined using this group's invite link\n",
      "29/07/2022, 7:43 pm - +880 1986-994064 joined using this group's invite link\n",
      "29/07/2022, 7:55 pm - +91 98339 98959 joined using this group's invite link\n",
      "29/07/2022, 10:08 pm - +880 1830-986054 joined using this group's invite link\n",
      "29/07/2022, 11:06 pm - +91 70064 82743 left\n",
      "29/07/2022, 11:34 pm - +91 75419 66165 left\n",
      "30/07/2022, 8:53 am - +91 86101 36343 joined using this group's invite link\n",
      "30/07/2022, 4:39 pm - +91 86378 45121 left\n",
      "30/07/2022, 5:13 pm - +91 84468 52996 changed the subject from \"Codingal Teacher|Btch-49\" to \"Codingal Teacher|Batch-49\"\n",
      "30/07/2022, 5:48 pm - +91 84468 52996: Hey Teachers !! 👋\n",
      "\n",
      "Greetings from Codingal 🐧\n",
      "We are glad to have you here.\n",
      "\n",
      "I am Nikhil Kumar the Sr. Operations Manager at Codingal 😇, also say hi to @919921715705  (Aadish) and we will take you through this training tour and will be more than happy to help you in this new journey that you are starting from Monday with Codingal.\n",
      "Feel free to bug us whenever you want.\n",
      "\n",
      "Now here is the plan,\n",
      "We will be having a 15 days extensive training program starting from Monday at 10:00 AM IST, please be on time, in fact join 5 minutes earlier.\n",
      "\n",
      "Attached here is the next 15 days schedule starting from Monday, so that you can plan your day accordingly for the entire week.\n",
      "\n",
      "\n",
      "https://docs.google.com/spreadsheets/d/e/2PACX-1vSIKYAvEkyLsuM_pH5pd4NPtNvUA_qhB1Sv9pOfHJuM3DVseHL9MKQ07zyeRu6V3GLHgblaUkxJ_E71/pubhtml?gid=1705047566&single=true\n",
      "\n",
      "In case of any doubts kindly reach out in DM 😇\n",
      "30/07/2022, 6:58 pm - +91 99217 15705: Hey Teachers👋🏻\n",
      "Training schedule link :\n",
      "\n",
      "https://docs.google.com/spreadsheets/d/e/2PACX-1vSIKYAvEkyLsuM_pH5pd4NPtNvUA_qhB1Sv9pOfHJuM3DVseHL9MKQ07zyeRu6V3GLHgblaUkxJ_E71/pubhtml?gid=1705047566&single=true\n",
      "30/07/2022, 9:07 pm - Yusra Nayak( Nayak removed +91 87899 80489\n",
      "30/07/2022, 10:08 pm - +880 1969-698178 changed to +880 1690-209848\n",
      "30/07/2022, 10:08 pm - +880 1690-209848 left\n",
      "30/07/2022, 10:16 pm - +880 1969-698178 joined using this group's invite link\n",
      "31/07/2022, 4:57 pm - +91 93878 36051 joined using this group's invite link\n",
      "31/07/2022, 7:48 pm - +91 99217 15705: Hey  Teachers ! 👋\n",
      "Codingal is happy to have you as the next set of teachers to make kids fall in love with Coding.✨\n",
      "\n",
      "During the training we expect you give your more than 100% and make the most of it.💯\n",
      "\n",
      "\n",
      "General Instructions for Training 📝 :\n",
      "\n",
      "📍.Teachers need to be available for every scheduled training 5 mins prior.\n",
      "📍 Late entries wont be entertained.\n",
      "📍Training should be strictly attended from Laptop.\n",
      "📍 The camera must be on for the whole duration of the training.\n",
      "📍If at any time you wont be available to attend the training, the team must be informed prior.\n",
      "\n",
      "Missing any session will disqualify the teacher \n",
      "\n",
      "\n",
      "Looking forward to see you tomorrow at 10 am ist.🙂\n",
      "01/08/2022, 10:31 am - +91 99217 15705: Hey Teachers👋🏻\n",
      "\n",
      "The induction session has started.💯\n",
      "\n",
      "Join at the earliest😇\n",
      "\n",
      "Zoom : https://us06web.zoom.us/j/6053315452\n",
      "01/08/2022, 11:16 am - +92 300 9245927 joined using this group's invite link\n",
      "01/08/2022, 1:11 pm - +254 724 020204 joined using this group's invite link\n",
      "01/08/2022, 4:14 pm - +91 84468 52996: <Media omitted>\n",
      "01/08/2022, 4:18 pm - +91 84468 52996: <Media omitted>\n",
      "02/08/2022, 9:17 am - +91 84468 52996: Hey Learners 👋\n",
      "A very good morning to all of you 😇\n",
      "Hope you had a wonderful learning experience yesterday and are prepared for next session.\n",
      "\n",
      "This is a gentle reminder, our next session is scheduled at \n",
      "- 10:30 AM IST\n",
      "- 9:30 AM PST\n",
      "- 11:00 AM BST\n",
      "\n",
      "That is, it will start about 1 hour 30 minutes.\n",
      "Please be there on time 🚀\n",
      "02/08/2022, 9:29 am - +91 84468 52996: Hey guys, \n",
      "A small mistake I did in mentioning the time above\n",
      "For Pakistan it is not 9:30 AM PST, its 10:00 AM PST 😇\n",
      "02/08/2022, 9:30 am - +91 70349 24381 left\n",
      "02/08/2022, 11:07 am - +91 84468 52996: Hey everyone apologies for the delay \n",
      "Have started the meeting now.\n",
      "\n",
      "Was facing some issue with Zoom\n",
      "02/08/2022, 11:13 am - +91 84468 52996: Join Zoom Meeting\n",
      "https://us06web.zoom.us/j/6053315452\n",
      "\n",
      "Meeting ID: 605 331 5452\n",
      "03/08/2022, 10:15 am - +92 347 3688004 left\n",
      "03/08/2022, 10:15 am - +91 84468 52996: A very good morning everyone \n",
      "This is a gentle reminder, our next session is scheduled at \n",
      "\n",
      "10:00 AM IST\n",
      "9:30 AM PST\n",
      "10:30 AM BST\n",
      "\n",
      "That is, it will start in 15 minutes \n",
      "Please be there on time 🚀\n",
      "03/08/2022, 11:02 am - +880 1521-432061 joined using this group's invite link\n",
      "03/08/2022, 2:33 pm - You left\n",
      "\n"
     ]
    }
   ],
   "source": [
    "print(data)"
   ]
  },
  {
   "cell_type": "code",
   "execution_count": 5,
   "metadata": {},
   "outputs": [],
   "source": [
    "pattern = '\\d{1,2}/\\d{1,2}/\\d{2,4},\\s\\d{1,2}:\\d{2}\\s(?:pm|am)\\s-\\s'"
   ]
  },
  {
   "cell_type": "code",
   "execution_count": 6,
   "metadata": {},
   "outputs": [
    {
     "data": {
      "text/plain": [
       "['Messages and calls are end-to-end encrypted. No one outside of this chat, not even WhatsApp, can read or listen to them. Tap to learn more.\\n',\n",
       " '+91 86378 45121 created group \"Codingal Teacher|Btch-49\"\\n',\n",
       " \"You joined using this group's invite link\\n\",\n",
       " \"+91 90419 96993 joined using this group's invite link\\n\",\n",
       " \"+880 1534-357696 joined using this group's invite link\\n\",\n",
       " \"+880 1911-135430 joined using this group's invite link\\n\",\n",
       " \"+880 1934-050250 joined using this group's invite link\\n\",\n",
       " \"+880 1885-483726 joined using this group's invite link\\n\",\n",
       " \"+92 333 8693215 joined using this group's invite link\\n\",\n",
       " \"+91 70064 82743 joined using this group's invite link\\n\",\n",
       " \"+92 303 8016653 joined using this group's invite link\\n\",\n",
       " \"+92 312 7396969 joined using this group's invite link\\n\",\n",
       " \"+91 81226 87839 joined using this group's invite link\\n\",\n",
       " \"+880 1750-591009 joined using this group's invite link\\n\",\n",
       " \"+880 1969-698178 joined using this group's invite link\\n\",\n",
       " \"+880 1731-256258 joined using this group's invite link\\n\",\n",
       " \"+91 75419 66165 joined using this group's invite link\\n\",\n",
       " \"+880 1986-994064 joined using this group's invite link\\n\",\n",
       " \"+91 98339 98959 joined using this group's invite link\\n\",\n",
       " \"+880 1830-986054 joined using this group's invite link\\n\",\n",
       " '+91 70064 82743 left\\n',\n",
       " '+91 75419 66165 left\\n',\n",
       " \"+91 86101 36343 joined using this group's invite link\\n\",\n",
       " '+91 86378 45121 left\\n',\n",
       " '+91 84468 52996 changed the subject from \"Codingal Teacher|Btch-49\" to \"Codingal Teacher|Batch-49\"\\n',\n",
       " '+91 84468 52996: Hey Teachers !! 👋\\n\\nGreetings from Codingal\\xa0🐧\\nWe are glad to have you here.\\n\\nI am\\xa0Nikhil Kumar the Sr. Operations Manager at Codingal\\xa0😇, also say hi to @919921715705  (Aadish) and we will take you through this training tour and will be more than happy to help you in this new journey that you are starting from Monday with Codingal.\\nFeel free to bug us whenever you want.\\n\\nNow here is the plan,\\nWe will be having a 15 days extensive training program starting from Monday at 10:00 AM IST, please be on time, in fact join 5 minutes earlier.\\n\\nAttached here is the next 15 days schedule starting from Monday, so that you can plan your day accordingly for the entire week.\\n\\n\\nhttps://docs.google.com/spreadsheets/d/e/2PACX-1vSIKYAvEkyLsuM_pH5pd4NPtNvUA_qhB1Sv9pOfHJuM3DVseHL9MKQ07zyeRu6V3GLHgblaUkxJ_E71/pubhtml?gid=1705047566&single=true\\n\\nIn case of any doubts kindly reach out in DM 😇\\n',\n",
       " '+91 99217 15705: Hey Teachers👋🏻\\nTraining schedule link :\\n\\nhttps://docs.google.com/spreadsheets/d/e/2PACX-1vSIKYAvEkyLsuM_pH5pd4NPtNvUA_qhB1Sv9pOfHJuM3DVseHL9MKQ07zyeRu6V3GLHgblaUkxJ_E71/pubhtml?gid=1705047566&single=true\\n',\n",
       " 'Yusra Nayak( Nayak removed +91 87899 80489\\n',\n",
       " '+880\\xa01969-698178 changed to +880\\xa01690-209848\\n',\n",
       " '+880 1690-209848 left\\n',\n",
       " \"+880 1969-698178 joined using this group's invite link\\n\",\n",
       " \"+91 93878 36051 joined using this group's invite link\\n\",\n",
       " '+91 99217 15705: Hey  Teachers ! 👋\\nCodingal is happy to have you as the next set of teachers to make kids fall in love with Coding.✨\\n\\nDuring the training we expect you give your more than 100% and make the most of it.💯\\n\\n\\nGeneral Instructions for Training 📝 :\\n\\n📍.Teachers need to be available for every scheduled training 5 mins prior.\\n📍 Late entries wont be entertained.\\n📍Training should be strictly attended from Laptop.\\n📍 The camera must be on for the whole duration of the training.\\n📍If at any time you wont be available to attend the training, the team must be informed prior.\\n\\nMissing any session will disqualify the teacher \\n\\n\\nLooking forward to see you tomorrow at 10 am ist.🙂\\n',\n",
       " '+91 99217 15705: Hey Teachers👋🏻\\n\\nThe induction session has started.💯\\n\\nJoin at the earliest😇\\n\\nZoom : https://us06web.zoom.us/j/6053315452\\n',\n",
       " \"+92 300 9245927 joined using this group's invite link\\n\",\n",
       " \"+254 724 020204 joined using this group's invite link\\n\",\n",
       " '+91 84468 52996: <Media omitted>\\n',\n",
       " '+91 84468 52996: <Media omitted>\\n',\n",
       " '+91 84468 52996: Hey Learners 👋\\nA very good morning to all of you 😇\\nHope you had a wonderful learning experience yesterday and are prepared for next session.\\n\\nThis is a gentle reminder, our next session is scheduled at \\n- 10:30 AM IST\\n- 9:30 AM PST\\n- 11:00 AM BST\\n\\nThat is, it will start about 1 hour 30 minutes.\\nPlease be there on time 🚀\\n',\n",
       " '+91 84468 52996: Hey guys, \\nA small mistake I did in mentioning the time above\\nFor Pakistan it is not 9:30 AM PST, its 10:00 AM PST 😇\\n',\n",
       " '+91 70349 24381 left\\n',\n",
       " '+91 84468 52996: Hey everyone apologies for the delay \\nHave started the meeting now.\\n\\nWas facing some issue with Zoom\\n',\n",
       " '+91 84468 52996: Join Zoom Meeting\\nhttps://us06web.zoom.us/j/6053315452\\n\\nMeeting ID: 605 331 5452\\n',\n",
       " '+92 347 3688004 left\\n',\n",
       " '+91 84468 52996: A very good morning everyone \\nThis is a gentle reminder, our next session is scheduled at \\n\\n10:00 AM IST\\n9:30 AM PST\\n10:30 AM BST\\n\\nThat is, it will start in 15 minutes \\nPlease be there on time 🚀\\n',\n",
       " \"+880 1521-432061 joined using this group's invite link\\n\",\n",
       " 'You left\\n']"
      ]
     },
     "execution_count": 6,
     "metadata": {},
     "output_type": "execute_result"
    }
   ],
   "source": [
    "messages = re.split(pattern,data)[1:]\n",
    "messages"
   ]
  },
  {
   "cell_type": "code",
   "execution_count": 7,
   "metadata": {},
   "outputs": [
    {
     "data": {
      "text/plain": [
       "['29/07/2022, 2:21 pm - ',\n",
       " '29/07/2022, 12:36 pm - ',\n",
       " '29/07/2022, 2:21 pm - ',\n",
       " '29/07/2022, 2:30 pm - ',\n",
       " '29/07/2022, 2:40 pm - ',\n",
       " '29/07/2022, 2:40 pm - ',\n",
       " '29/07/2022, 2:41 pm - ',\n",
       " '29/07/2022, 2:53 pm - ',\n",
       " '29/07/2022, 2:58 pm - ',\n",
       " '29/07/2022, 2:59 pm - ',\n",
       " '29/07/2022, 3:00 pm - ',\n",
       " '29/07/2022, 3:02 pm - ',\n",
       " '29/07/2022, 3:25 pm - ',\n",
       " '29/07/2022, 5:08 pm - ',\n",
       " '29/07/2022, 6:17 pm - ',\n",
       " '29/07/2022, 6:58 pm - ',\n",
       " '29/07/2022, 7:31 pm - ',\n",
       " '29/07/2022, 7:43 pm - ',\n",
       " '29/07/2022, 7:55 pm - ',\n",
       " '29/07/2022, 10:08 pm - ',\n",
       " '29/07/2022, 11:06 pm - ',\n",
       " '29/07/2022, 11:34 pm - ',\n",
       " '30/07/2022, 8:53 am - ',\n",
       " '30/07/2022, 4:39 pm - ',\n",
       " '30/07/2022, 5:13 pm - ',\n",
       " '30/07/2022, 5:48 pm - ',\n",
       " '30/07/2022, 6:58 pm - ',\n",
       " '30/07/2022, 9:07 pm - ',\n",
       " '30/07/2022, 10:08 pm - ',\n",
       " '30/07/2022, 10:08 pm - ',\n",
       " '30/07/2022, 10:16 pm - ',\n",
       " '31/07/2022, 4:57 pm - ',\n",
       " '31/07/2022, 7:48 pm - ',\n",
       " '01/08/2022, 10:31 am - ',\n",
       " '01/08/2022, 11:16 am - ',\n",
       " '01/08/2022, 1:11 pm - ',\n",
       " '01/08/2022, 4:14 pm - ',\n",
       " '01/08/2022, 4:18 pm - ',\n",
       " '02/08/2022, 9:17 am - ',\n",
       " '02/08/2022, 9:29 am - ',\n",
       " '02/08/2022, 9:30 am - ',\n",
       " '02/08/2022, 11:07 am - ',\n",
       " '02/08/2022, 11:13 am - ',\n",
       " '03/08/2022, 10:15 am - ',\n",
       " '03/08/2022, 10:15 am - ',\n",
       " '03/08/2022, 11:02 am - ',\n",
       " '03/08/2022, 2:33 pm - ']"
      ]
     },
     "execution_count": 7,
     "metadata": {},
     "output_type": "execute_result"
    }
   ],
   "source": [
    "dates= re.findall(pattern, data)\n",
    "dates"
   ]
  },
  {
   "cell_type": "code",
   "execution_count": 8,
   "metadata": {},
   "outputs": [
    {
     "data": {
      "text/html": [
       "<div>\n",
       "<style scoped>\n",
       "    .dataframe tbody tr th:only-of-type {\n",
       "        vertical-align: middle;\n",
       "    }\n",
       "\n",
       "    .dataframe tbody tr th {\n",
       "        vertical-align: top;\n",
       "    }\n",
       "\n",
       "    .dataframe thead th {\n",
       "        text-align: right;\n",
       "    }\n",
       "</style>\n",
       "<table border=\"1\" class=\"dataframe\">\n",
       "  <thead>\n",
       "    <tr style=\"text-align: right;\">\n",
       "      <th></th>\n",
       "      <th>user_message</th>\n",
       "      <th>date</th>\n",
       "    </tr>\n",
       "  </thead>\n",
       "  <tbody>\n",
       "    <tr>\n",
       "      <th>0</th>\n",
       "      <td>Messages and calls are end-to-end encrypted. N...</td>\n",
       "      <td>2022-07-29 14:21:00</td>\n",
       "    </tr>\n",
       "    <tr>\n",
       "      <th>1</th>\n",
       "      <td>+91 86378 45121 created group \"Codingal Teache...</td>\n",
       "      <td>2022-07-29 12:36:00</td>\n",
       "    </tr>\n",
       "    <tr>\n",
       "      <th>2</th>\n",
       "      <td>You joined using this group's invite link\\n</td>\n",
       "      <td>2022-07-29 14:21:00</td>\n",
       "    </tr>\n",
       "    <tr>\n",
       "      <th>3</th>\n",
       "      <td>+91 90419 96993 joined using this group's invi...</td>\n",
       "      <td>2022-07-29 14:30:00</td>\n",
       "    </tr>\n",
       "    <tr>\n",
       "      <th>4</th>\n",
       "      <td>+880 1534-357696 joined using this group's inv...</td>\n",
       "      <td>2022-07-29 14:40:00</td>\n",
       "    </tr>\n",
       "  </tbody>\n",
       "</table>\n",
       "</div>"
      ],
      "text/plain": [
       "                                        user_message                date\n",
       "0  Messages and calls are end-to-end encrypted. N... 2022-07-29 14:21:00\n",
       "1  +91 86378 45121 created group \"Codingal Teache... 2022-07-29 12:36:00\n",
       "2        You joined using this group's invite link\\n 2022-07-29 14:21:00\n",
       "3  +91 90419 96993 joined using this group's invi... 2022-07-29 14:30:00\n",
       "4  +880 1534-357696 joined using this group's inv... 2022-07-29 14:40:00"
      ]
     },
     "execution_count": 8,
     "metadata": {},
     "output_type": "execute_result"
    }
   ],
   "source": [
    "df = pd.DataFrame({'user_message':messages, 'message_date': dates})\n",
    "\n",
    "#convert message_date type\n",
    "df['message_date'] = pd.to_datetime(df['message_date'], format ='%d/%m/%Y, %I:%M %p - ')\n",
    "\n",
    "df.rename(columns={'message_date': 'date'}, inplace=True)\n",
    "\n",
    "df.head()"
   ]
  },
  {
   "cell_type": "code",
   "execution_count": 9,
   "metadata": {},
   "outputs": [
    {
     "data": {
      "text/html": [
       "<div>\n",
       "<style scoped>\n",
       "    .dataframe tbody tr th:only-of-type {\n",
       "        vertical-align: middle;\n",
       "    }\n",
       "\n",
       "    .dataframe tbody tr th {\n",
       "        vertical-align: top;\n",
       "    }\n",
       "\n",
       "    .dataframe thead th {\n",
       "        text-align: right;\n",
       "    }\n",
       "</style>\n",
       "<table border=\"1\" class=\"dataframe\">\n",
       "  <thead>\n",
       "    <tr style=\"text-align: right;\">\n",
       "      <th></th>\n",
       "      <th>date</th>\n",
       "      <th>users</th>\n",
       "      <th>messages</th>\n",
       "    </tr>\n",
       "  </thead>\n",
       "  <tbody>\n",
       "    <tr>\n",
       "      <th>0</th>\n",
       "      <td>2022-07-29 14:21:00</td>\n",
       "      <td>group_notification</td>\n",
       "      <td>Messages and calls are end-to-end encrypted. N...</td>\n",
       "    </tr>\n",
       "    <tr>\n",
       "      <th>1</th>\n",
       "      <td>2022-07-29 12:36:00</td>\n",
       "      <td>group_notification</td>\n",
       "      <td>+91 86378 45121 created group \"Codingal Teache...</td>\n",
       "    </tr>\n",
       "    <tr>\n",
       "      <th>2</th>\n",
       "      <td>2022-07-29 14:21:00</td>\n",
       "      <td>group_notification</td>\n",
       "      <td>You joined using this group's invite link\\n</td>\n",
       "    </tr>\n",
       "    <tr>\n",
       "      <th>3</th>\n",
       "      <td>2022-07-29 14:30:00</td>\n",
       "      <td>group_notification</td>\n",
       "      <td>+91 90419 96993 joined using this group's invi...</td>\n",
       "    </tr>\n",
       "    <tr>\n",
       "      <th>4</th>\n",
       "      <td>2022-07-29 14:40:00</td>\n",
       "      <td>group_notification</td>\n",
       "      <td>+880 1534-357696 joined using this group's inv...</td>\n",
       "    </tr>\n",
       "  </tbody>\n",
       "</table>\n",
       "</div>"
      ],
      "text/plain": [
       "                 date               users  \\\n",
       "0 2022-07-29 14:21:00  group_notification   \n",
       "1 2022-07-29 12:36:00  group_notification   \n",
       "2 2022-07-29 14:21:00  group_notification   \n",
       "3 2022-07-29 14:30:00  group_notification   \n",
       "4 2022-07-29 14:40:00  group_notification   \n",
       "\n",
       "                                            messages  \n",
       "0  Messages and calls are end-to-end encrypted. N...  \n",
       "1  +91 86378 45121 created group \"Codingal Teache...  \n",
       "2        You joined using this group's invite link\\n  \n",
       "3  +91 90419 96993 joined using this group's invi...  \n",
       "4  +880 1534-357696 joined using this group's inv...  "
      ]
     },
     "execution_count": 9,
     "metadata": {},
     "output_type": "execute_result"
    }
   ],
   "source": [
    "# separate users and messages\n",
    "\n",
    "users =[]\n",
    "messages = []\n",
    "for message in df['user_message']:\n",
    "    entry=re.split('([\\w\\W]+?):\\s', message)\n",
    "    if entry[1:]:\n",
    "        users.append(entry[1])\n",
    "        messages.append(entry[2])\n",
    "    else:\n",
    "        users.append('group_notification')\n",
    "        messages.append(entry[0])\n",
    "df['users'] = users\n",
    "df['messages'] = messages\n",
    "df.drop(columns=['user_message'], inplace=True)\n",
    "\n",
    "df.head()"
   ]
  },
  {
   "cell_type": "code",
   "execution_count": 10,
   "metadata": {},
   "outputs": [],
   "source": [
    "df['month'] = df['date'].dt.month_name()"
   ]
  },
  {
   "cell_type": "code",
   "execution_count": 11,
   "metadata": {},
   "outputs": [],
   "source": [
    "df['day'] = df['date'].dt.day"
   ]
  },
  {
   "cell_type": "code",
   "execution_count": 12,
   "metadata": {},
   "outputs": [],
   "source": [
    "df['hour'] = df['date'].dt.hour"
   ]
  },
  {
   "cell_type": "code",
   "execution_count": 13,
   "metadata": {},
   "outputs": [],
   "source": [
    "df['minute'] = df['date'].dt.minute"
   ]
  },
  {
   "cell_type": "code",
   "execution_count": 14,
   "metadata": {},
   "outputs": [
    {
     "data": {
      "text/html": [
       "<div>\n",
       "<style scoped>\n",
       "    .dataframe tbody tr th:only-of-type {\n",
       "        vertical-align: middle;\n",
       "    }\n",
       "\n",
       "    .dataframe tbody tr th {\n",
       "        vertical-align: top;\n",
       "    }\n",
       "\n",
       "    .dataframe thead th {\n",
       "        text-align: right;\n",
       "    }\n",
       "</style>\n",
       "<table border=\"1\" class=\"dataframe\">\n",
       "  <thead>\n",
       "    <tr style=\"text-align: right;\">\n",
       "      <th></th>\n",
       "      <th>date</th>\n",
       "      <th>users</th>\n",
       "      <th>messages</th>\n",
       "      <th>month</th>\n",
       "      <th>day</th>\n",
       "      <th>hour</th>\n",
       "      <th>minute</th>\n",
       "    </tr>\n",
       "  </thead>\n",
       "  <tbody>\n",
       "    <tr>\n",
       "      <th>0</th>\n",
       "      <td>2022-07-29 14:21:00</td>\n",
       "      <td>group_notification</td>\n",
       "      <td>Messages and calls are end-to-end encrypted. N...</td>\n",
       "      <td>July</td>\n",
       "      <td>29</td>\n",
       "      <td>14</td>\n",
       "      <td>21</td>\n",
       "    </tr>\n",
       "    <tr>\n",
       "      <th>1</th>\n",
       "      <td>2022-07-29 12:36:00</td>\n",
       "      <td>group_notification</td>\n",
       "      <td>+91 86378 45121 created group \"Codingal Teache...</td>\n",
       "      <td>July</td>\n",
       "      <td>29</td>\n",
       "      <td>12</td>\n",
       "      <td>36</td>\n",
       "    </tr>\n",
       "    <tr>\n",
       "      <th>2</th>\n",
       "      <td>2022-07-29 14:21:00</td>\n",
       "      <td>group_notification</td>\n",
       "      <td>You joined using this group's invite link\\n</td>\n",
       "      <td>July</td>\n",
       "      <td>29</td>\n",
       "      <td>14</td>\n",
       "      <td>21</td>\n",
       "    </tr>\n",
       "    <tr>\n",
       "      <th>3</th>\n",
       "      <td>2022-07-29 14:30:00</td>\n",
       "      <td>group_notification</td>\n",
       "      <td>+91 90419 96993 joined using this group's invi...</td>\n",
       "      <td>July</td>\n",
       "      <td>29</td>\n",
       "      <td>14</td>\n",
       "      <td>30</td>\n",
       "    </tr>\n",
       "    <tr>\n",
       "      <th>4</th>\n",
       "      <td>2022-07-29 14:40:00</td>\n",
       "      <td>group_notification</td>\n",
       "      <td>+880 1534-357696 joined using this group's inv...</td>\n",
       "      <td>July</td>\n",
       "      <td>29</td>\n",
       "      <td>14</td>\n",
       "      <td>40</td>\n",
       "    </tr>\n",
       "  </tbody>\n",
       "</table>\n",
       "</div>"
      ],
      "text/plain": [
       "                 date               users  \\\n",
       "0 2022-07-29 14:21:00  group_notification   \n",
       "1 2022-07-29 12:36:00  group_notification   \n",
       "2 2022-07-29 14:21:00  group_notification   \n",
       "3 2022-07-29 14:30:00  group_notification   \n",
       "4 2022-07-29 14:40:00  group_notification   \n",
       "\n",
       "                                            messages month  day  hour  minute  \n",
       "0  Messages and calls are end-to-end encrypted. N...  July   29    14      21  \n",
       "1  +91 86378 45121 created group \"Codingal Teache...  July   29    12      36  \n",
       "2        You joined using this group's invite link\\n  July   29    14      21  \n",
       "3  +91 90419 96993 joined using this group's invi...  July   29    14      30  \n",
       "4  +880 1534-357696 joined using this group's inv...  July   29    14      40  "
      ]
     },
     "execution_count": 14,
     "metadata": {},
     "output_type": "execute_result"
    }
   ],
   "source": [
    "df.head()"
   ]
  },
  {
   "cell_type": "code",
   "execution_count": 15,
   "metadata": {},
   "outputs": [],
   "source": [
    "df['messages'] = df['messages'].replace('\\n','', regex=True)\n",
    "df['messages'] = df['messages'].replace('\\t','', regex=True)"
   ]
  },
  {
   "cell_type": "code",
   "execution_count": 16,
   "metadata": {},
   "outputs": [
    {
     "data": {
      "text/plain": [
       "0    Messages and calls are end-to-end encrypted. N...\n",
       "1    +91 86378 45121 created group \"Codingal Teache...\n",
       "2            You joined using this group's invite link\n",
       "3    +91 90419 96993 joined using this group's invi...\n",
       "4    +880 1534-357696 joined using this group's inv...\n",
       "Name: messages, dtype: object"
      ]
     },
     "execution_count": 16,
     "metadata": {},
     "output_type": "execute_result"
    }
   ],
   "source": [
    "df['messages'].head(5)"
   ]
  },
  {
   "cell_type": "code",
   "execution_count": 17,
   "metadata": {},
   "outputs": [],
   "source": [
    "df.drop('date', inplace=True, axis=1)"
   ]
  },
  {
   "cell_type": "code",
   "execution_count": 21,
   "metadata": {},
   "outputs": [
    {
     "name": "stdout",
     "output_type": "stream",
     "text": [
      "['Messages', 'and', 'calls', 'are', 'end-to-end', 'encrypted.', 'No', 'one', 'outside', 'of', 'this', 'chat,', 'not', 'even', 'WhatsApp,', 'can', 'read', 'or', 'listen', 'to', 'them.', 'Tap', 'to', 'learn', 'more.', '+91', '86378', '45121', 'created', 'group', '\"Codingal', 'Teacher|Btch-49\"', 'You', 'joined', 'using', 'this', \"group's\", 'invite', 'link', '+91', '90419', '96993', 'joined', 'using', 'this', \"group's\", 'invite', 'link', '+880', '1534-357696', 'joined', 'using', 'this', \"group's\", 'invite', 'link', '+880', '1911-135430', 'joined', 'using', 'this', \"group's\", 'invite', 'link', '+880', '1934-050250', 'joined', 'using', 'this', \"group's\", 'invite', 'link', '+880', '1885-483726', 'joined', 'using', 'this', \"group's\", 'invite', 'link', '+92', '333', '8693215', 'joined', 'using', 'this', \"group's\", 'invite', 'link', '+91', '70064', '82743', 'joined', 'using', 'this', \"group's\", 'invite', 'link', '+92', '303', '8016653', 'joined', 'using', 'this', \"group's\", 'invite', 'link', '+92', '312', '7396969', 'joined', 'using', 'this', \"group's\", 'invite', 'link', '+91', '81226', '87839', 'joined', 'using', 'this', \"group's\", 'invite', 'link', '+880', '1750-591009', 'joined', 'using', 'this', \"group's\", 'invite', 'link', '+880', '1969-698178', 'joined', 'using', 'this', \"group's\", 'invite', 'link', '+880', '1731-256258', 'joined', 'using', 'this', \"group's\", 'invite', 'link', '+91', '75419', '66165', 'joined', 'using', 'this', \"group's\", 'invite', 'link', '+880', '1986-994064', 'joined', 'using', 'this', \"group's\", 'invite', 'link', '+91', '98339', '98959', 'joined', 'using', 'this', \"group's\", 'invite', 'link', '+880', '1830-986054', 'joined', 'using', 'this', \"group's\", 'invite', 'link', '+91', '70064', '82743', 'left', '+91', '75419', '66165', 'left', '+91', '86101', '36343', 'joined', 'using', 'this', \"group's\", 'invite', 'link', '+91', '86378', '45121', 'left', '+91', '84468', '52996', 'changed', 'the', 'subject', 'from', '\"Codingal', 'Teacher|Btch-49\"', 'to', '\"Codingal', 'Teacher|Batch-49\"', 'Hey', 'Teachers', '!!', '👋Greetings', 'from', 'Codingal', '🐧We', 'are', 'glad', 'to', 'have', 'you', 'here.I', 'am', 'Nikhil', 'Kumar', 'the', 'Sr.', 'Operations', 'Manager', 'at', 'Codingal', '😇,', 'also', 'say', 'hi', 'to', '@919921715705', '(Aadish)', 'and', 'we', 'will', 'take', 'you', 'through', 'this', 'training', 'tour', 'and', 'will', 'be', 'more', 'than', 'happy', 'to', 'help', 'you', 'in', 'this', 'new', 'journey', 'that', 'you', 'are', 'starting', 'from', 'Monday', 'with', 'Codingal.Feel', 'free', 'to', 'bug', 'us', 'whenever', 'you', 'want.Now', 'here', 'is', 'the', 'plan,We', 'will', 'be', 'having', 'a', '15', 'days', 'extensive', 'training', 'program', 'starting', 'from', 'Monday', 'at', '10:00', 'AM', 'IST,', 'please', 'be', 'on', 'time,', 'in', 'fact', 'join', '5', 'minutes', 'earlier.Attached', 'here', 'is', 'the', 'next', '15', 'days', 'schedule', 'starting', 'from', 'Monday,', 'so', 'that', 'you', 'can', 'plan', 'your', 'day', 'accordingly', 'for', 'the', 'entire', 'week.https://docs.google.com/spreadsheets/d/e/2PACX-1vSIKYAvEkyLsuM_pH5pd4NPtNvUA_qhB1Sv9pOfHJuM3DVseHL9MKQ07zyeRu6V3GLHgblaUkxJ_E71/pubhtml?gid=1705047566&single=trueIn', 'case', 'of', 'any', 'doubts', 'kindly', 'reach', 'out', 'in', 'DM', '😇', 'Yusra', 'Nayak(', 'Nayak', 'removed', '+91', '87899', '80489', '+880', '1969-698178', 'changed', 'to', '+880', '1690-209848', '+880', '1690-209848', 'left', '+880', '1969-698178', 'joined', 'using', 'this', \"group's\", 'invite', 'link', '+91', '93878', '36051', 'joined', 'using', 'this', \"group's\", 'invite', 'link', '+92', '300', '9245927', 'joined', 'using', 'this', \"group's\", 'invite', 'link', '+254', '724', '020204', 'joined', 'using', 'this', \"group's\", 'invite', 'link', '<Media', 'omitted>', '<Media', 'omitted>', 'Hey', 'Learners', '👋A', 'very', 'good', 'morning', 'to', 'all', 'of', 'you', '😇Hope', 'you', 'had', 'a', 'wonderful', 'learning', 'experience', 'yesterday', 'and', 'are', 'prepared', 'for', 'next', 'session.This', 'is', 'a', 'gentle', 'reminder,', 'our', 'next', 'session', 'is', 'scheduled', 'at', '-', '10:30', 'AM', 'IST-', '9:30', 'AM', 'PST-', '11:00', 'AM', 'BSTThat', 'is,', 'it', 'will', 'start', 'about', '1', 'hour', '30', 'minutes.Please', 'be', 'there', 'on', 'time', '🚀', 'Hey', 'guys,', 'A', 'small', 'mistake', 'I', 'did', 'in', 'mentioning', 'the', 'time', 'aboveFor', 'Pakistan', 'it', 'is', 'not', '9:30', 'AM', 'PST,', 'its', '10:00', 'AM', 'PST', '😇', '+91', '70349', '24381', 'left', 'Hey', 'everyone', 'apologies', 'for', 'the', 'delay', 'Have', 'started', 'the', 'meeting', 'now.Was', 'facing', 'some', 'issue', 'with', 'Zoom', '+92', '347', '3688004', 'left', 'A', 'very', 'good', 'morning', 'everyone', 'This', 'is', 'a', 'gentle', 'reminder,', 'our', 'next', 'session', 'is', 'scheduled', 'at', '10:00', 'AM', 'IST9:30', 'AM', 'PST10:30', 'AM', 'BSTThat', 'is,', 'it', 'will', 'start', 'in', '15', 'minutes', 'Please', 'be', 'there', 'on', 'time', '🚀', '+880', '1521-432061', 'joined', 'using', 'this', \"group's\", 'invite', 'link', 'You', 'left']\n",
      "551\n"
     ]
    }
   ],
   "source": [
    "words =[]\n",
    "for message in df['messages']:\n",
    "    words.extend(message.split())  \n",
    "print(words)\n",
    "print(len(words))"
   ]
  },
  {
   "cell_type": "code",
   "execution_count": 23,
   "metadata": {},
   "outputs": [
    {
     "data": {
      "text/plain": [
       "group_notification    36\n",
       "+91 84468 52996        8\n",
       "+91 99217 15705        3\n",
       "Name: users, dtype: int64"
      ]
     },
     "execution_count": 23,
     "metadata": {},
     "output_type": "execute_result"
    }
   ],
   "source": [
    "x = df['users'].value_counts()\n",
    "x.head()"
   ]
  },
  {
   "cell_type": "code",
   "execution_count": 18,
   "metadata": {},
   "outputs": [
    {
     "data": {
      "text/html": [
       "<div>\n",
       "<style scoped>\n",
       "    .dataframe tbody tr th:only-of-type {\n",
       "        vertical-align: middle;\n",
       "    }\n",
       "\n",
       "    .dataframe tbody tr th {\n",
       "        vertical-align: top;\n",
       "    }\n",
       "\n",
       "    .dataframe thead th {\n",
       "        text-align: right;\n",
       "    }\n",
       "</style>\n",
       "<table border=\"1\" class=\"dataframe\">\n",
       "  <thead>\n",
       "    <tr style=\"text-align: right;\">\n",
       "      <th></th>\n",
       "      <th>users</th>\n",
       "      <th>messages</th>\n",
       "      <th>month</th>\n",
       "      <th>day</th>\n",
       "      <th>hour</th>\n",
       "      <th>minute</th>\n",
       "    </tr>\n",
       "  </thead>\n",
       "  <tbody>\n",
       "    <tr>\n",
       "      <th>42</th>\n",
       "      <td>+91 84468 52996</td>\n",
       "      <td></td>\n",
       "      <td>August</td>\n",
       "      <td>2</td>\n",
       "      <td>11</td>\n",
       "      <td>13</td>\n",
       "    </tr>\n",
       "    <tr>\n",
       "      <th>43</th>\n",
       "      <td>group_notification</td>\n",
       "      <td>+92 347 3688004 left</td>\n",
       "      <td>August</td>\n",
       "      <td>3</td>\n",
       "      <td>10</td>\n",
       "      <td>15</td>\n",
       "    </tr>\n",
       "    <tr>\n",
       "      <th>44</th>\n",
       "      <td>+91 84468 52996</td>\n",
       "      <td>A very good morning everyone This is a gentle ...</td>\n",
       "      <td>August</td>\n",
       "      <td>3</td>\n",
       "      <td>10</td>\n",
       "      <td>15</td>\n",
       "    </tr>\n",
       "    <tr>\n",
       "      <th>45</th>\n",
       "      <td>group_notification</td>\n",
       "      <td>+880 1521-432061 joined using this group's inv...</td>\n",
       "      <td>August</td>\n",
       "      <td>3</td>\n",
       "      <td>11</td>\n",
       "      <td>2</td>\n",
       "    </tr>\n",
       "    <tr>\n",
       "      <th>46</th>\n",
       "      <td>group_notification</td>\n",
       "      <td>You left</td>\n",
       "      <td>August</td>\n",
       "      <td>3</td>\n",
       "      <td>14</td>\n",
       "      <td>33</td>\n",
       "    </tr>\n",
       "  </tbody>\n",
       "</table>\n",
       "</div>"
      ],
      "text/plain": [
       "                 users                                           messages  \\\n",
       "42     +91 84468 52996                                                      \n",
       "43  group_notification                               +92 347 3688004 left   \n",
       "44     +91 84468 52996  A very good morning everyone This is a gentle ...   \n",
       "45  group_notification  +880 1521-432061 joined using this group's inv...   \n",
       "46  group_notification                                           You left   \n",
       "\n",
       "     month  day  hour  minute  \n",
       "42  August    2    11      13  \n",
       "43  August    3    10      15  \n",
       "44  August    3    10      15  \n",
       "45  August    3    11       2  \n",
       "46  August    3    14      33  "
      ]
     },
     "execution_count": 18,
     "metadata": {},
     "output_type": "execute_result"
    }
   ],
   "source": [
    "df.tail(5)"
   ]
  },
  {
   "cell_type": "code",
   "execution_count": 19,
   "metadata": {},
   "outputs": [],
   "source": [
    "df.to_csv(r'./data.csv')"
   ]
  }
 ],
 "metadata": {
  "kernelspec": {
   "display_name": "pyGit_kernel",
   "language": "python",
   "name": "pygit"
  },
  "language_info": {
   "codemirror_mode": {
    "name": "ipython",
    "version": 3
   },
   "file_extension": ".py",
   "mimetype": "text/x-python",
   "name": "python",
   "nbconvert_exporter": "python",
   "pygments_lexer": "ipython3",
   "version": "3.10.4"
  },
  "orig_nbformat": 4
 },
 "nbformat": 4,
 "nbformat_minor": 2
}

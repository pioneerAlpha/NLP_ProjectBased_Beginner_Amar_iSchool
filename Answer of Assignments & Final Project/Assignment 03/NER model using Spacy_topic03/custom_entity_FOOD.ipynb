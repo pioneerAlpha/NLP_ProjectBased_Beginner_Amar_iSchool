{
 "cells": [
  {
   "cell_type": "code",
   "execution_count": 7,
   "metadata": {},
   "outputs": [],
   "source": [
    "#Import all the necessary libraries and files\n",
    "import spacy\n",
    "import random\n",
    "from spacy.tokens import Doc\n",
    "from spacy.training import Example\n",
    "from spacy.language import Language\n",
    "from json_parser import *"
   ]
  },
  {
   "cell_type": "code",
   "execution_count": 8,
   "metadata": {},
   "outputs": [],
   "source": [
    "#getting string as input returns the labeled word and the entity of that word\n",
    "def print_doc_entities(_doc: Doc):\n",
    "    if _doc.ents:\n",
    "        for _ent in _doc.ents:\n",
    "            print(f\"{_ent.text} {_ent.label_}\")\n",
    "    else:\n",
    "        print(\"NONE\")"
   ]
  },
  {
   "cell_type": "code",
   "execution_count": 11,
   "metadata": {},
   "outputs": [],
   "source": [
    "def customizing_pipeline_component(nlp: Language):\n",
    "    train_data = get_data('../FOOD_entity_custom_NER/data/json_files/') #calling the train data\n",
    "    disabled_pipes = []\n",
    "    for pipe_name in nlp.pipe_names:\n",
    "        if pipe_name != 'ner':\n",
    "            nlp.disable_pipes(pipe_name)\n",
    "            disabled_pipes.append(pipe_name) #disabled_pipes list holds the pipe other than 'ner', in order to train ner only\n",
    "    print(\"entities before training the model\")\n",
    "    print(nlp.get_pipe(\"ner\").labels)\n",
    "    #Training Starts from here\n",
    "    optimizer = nlp.create_optimizer() #optimizer initialization\n",
    "\n",
    "    #using 30 epochs to reduce the loss and to learn better \n",
    "    for _ in range(30):\n",
    "        random.shuffle(train_data)\n",
    "        losses ={}\n",
    "        for raw_text, entity_offsets in train_data:\n",
    "            doc = nlp.make_doc(raw_text)\n",
    "            #resource of training via the Python API: https://spacy.io/usage/v3#migrating-training-python \n",
    "            example = Example.from_dict(doc, {\"entities\": entity_offsets})\n",
    "            nlp.update([example], sgd=optimizer, losses=losses) #updating the en_core_web_sm nlp model with new added value for custom entity\n",
    "    print(\"Loss\", losses)\n",
    "\n",
    "    # Enable all previously disabled pipe components\n",
    "    for pipe_name in disabled_pipes:\n",
    "        nlp.enable_pipe(pipe_name)\n",
    "\n",
    "    print(\"entities before training the model\")\n",
    "    print(nlp.get_pipe(\"ner\").labels)\n",
    "    \n",
    "    nlp.to_disk(\"../FOOD_entity_custom_NER/output/\") #saving the new model to disk\n",
    "\n",
    "    # Result after training on test data\n",
    "    print(f'Test Data using the trained model')\n",
    "    doc = nlp(u'Sebastian Thrun loves to eat chicken and salad at Google in 2017')\n",
    "    print(doc)\n",
    "    print_doc_entities(doc)"
   ]
  },
  {
   "cell_type": "code",
   "execution_count": 12,
   "metadata": {},
   "outputs": [
    {
     "name": "stdout",
     "output_type": "stream",
     "text": [
      "entities before training the model\n",
      "('CARDINAL', 'DATE', 'EVENT', 'FAC', 'GPE', 'LANGUAGE', 'LAW', 'LOC', 'MONEY', 'NORP', 'ORDINAL', 'ORG', 'PERCENT', 'PERSON', 'PRODUCT', 'QUANTITY', 'TIME', 'WORK_OF_ART')\n",
      "Loss {'ner': 0.6412596824195579}\n",
      "entities before training the model\n",
      "('CARDINAL', 'DATE', 'EVENT', 'FAC', 'FOOD', 'GPE', 'LANGUAGE', 'LAW', 'LOC', 'MONEY', 'NORP', 'ORDINAL', 'ORG', 'PERCENT', 'PERSON', 'PRODUCT', 'QUANTITY', 'TIME', 'WORK_OF_ART')\n",
      "test data using the trained model\n",
      "Sebastian Thrun loves to eat chicken and salad at Google in 2017\n",
      "Sebastian Thrun PERSON\n",
      "chicken FOOD\n",
      "salad FOOD\n",
      "2017 DATE\n"
     ]
    }
   ],
   "source": [
    "def main():\n",
    "    nlp = spacy.load('en_core_web_sm')\n",
    "    customizing_pipeline_component(nlp)\n",
    "\n",
    "if __name__ == '__main__':\n",
    "    main()"
   ]
  }
 ],
 "metadata": {
  "kernelspec": {
   "display_name": "ner-kernel",
   "language": "python",
   "name": "ner"
  },
  "language_info": {
   "codemirror_mode": {
    "name": "ipython",
    "version": 3
   },
   "file_extension": ".py",
   "mimetype": "text/x-python",
   "name": "python",
   "nbconvert_exporter": "python",
   "pygments_lexer": "ipython3",
   "version": "3.10.4"
  },
  "orig_nbformat": 4,
  "vscode": {
   "interpreter": {
    "hash": "0a799ce8db9140c6a8f37f9799700a36613707ce570247725f1ba362ea631531"
   }
  }
 },
 "nbformat": 4,
 "nbformat_minor": 2
}
